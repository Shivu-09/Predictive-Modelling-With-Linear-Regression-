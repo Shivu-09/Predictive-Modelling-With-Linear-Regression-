{
 "cells": [
  {
   "cell_type": "markdown",
   "id": "578cedd8",
   "metadata": {},
   "source": [
    "Importing Necessary Libraries"
   ]
  },
  {
   "cell_type": "code",
   "execution_count": 13,
   "id": "b2bc990b",
   "metadata": {},
   "outputs": [],
   "source": [
    "import pandas as pd\n",
    "from sklearn.model_selection import train_test_split\n",
    "from sklearn.linear_model import LinearRegression\n",
    "from sklearn.metrics import mean_squared_error, r2_score\n",
    "import matplotlib.pyplot as plt"
   ]
  },
  {
   "cell_type": "markdown",
   "id": "b5b44ed6",
   "metadata": {},
   "source": [
    "Loading Data Set"
   ]
  },
  {
   "cell_type": "code",
   "execution_count": 14,
   "id": "b3b67a9f",
   "metadata": {},
   "outputs": [],
   "source": [
    "df = pd.read_csv('Liver_disease_data.csv')"
   ]
  },
  {
   "cell_type": "markdown",
   "id": "b6f54d1c",
   "metadata": {},
   "source": [
    "Reading The Data Set"
   ]
  },
  {
   "cell_type": "code",
   "execution_count": 15,
   "id": "5c905113",
   "metadata": {},
   "outputs": [
    {
     "data": {
      "text/html": [
       "<div>\n",
       "<style scoped>\n",
       "    .dataframe tbody tr th:only-of-type {\n",
       "        vertical-align: middle;\n",
       "    }\n",
       "\n",
       "    .dataframe tbody tr th {\n",
       "        vertical-align: top;\n",
       "    }\n",
       "\n",
       "    .dataframe thead th {\n",
       "        text-align: right;\n",
       "    }\n",
       "</style>\n",
       "<table border=\"1\" class=\"dataframe\">\n",
       "  <thead>\n",
       "    <tr style=\"text-align: right;\">\n",
       "      <th></th>\n",
       "      <th>Age</th>\n",
       "      <th>Gender</th>\n",
       "      <th>BMI</th>\n",
       "      <th>AlcoholConsumption</th>\n",
       "      <th>Smoking</th>\n",
       "      <th>GeneticRisk</th>\n",
       "      <th>PhysicalActivity</th>\n",
       "      <th>Diabetes</th>\n",
       "      <th>Hypertension</th>\n",
       "      <th>LiverFunctionTest</th>\n",
       "      <th>Diagnosis</th>\n",
       "    </tr>\n",
       "  </thead>\n",
       "  <tbody>\n",
       "    <tr>\n",
       "      <th>0</th>\n",
       "      <td>58</td>\n",
       "      <td>0</td>\n",
       "      <td>35.857584</td>\n",
       "      <td>17.272828</td>\n",
       "      <td>0</td>\n",
       "      <td>1</td>\n",
       "      <td>0.658940</td>\n",
       "      <td>0</td>\n",
       "      <td>0</td>\n",
       "      <td>42.734240</td>\n",
       "      <td>1</td>\n",
       "    </tr>\n",
       "    <tr>\n",
       "      <th>1</th>\n",
       "      <td>71</td>\n",
       "      <td>1</td>\n",
       "      <td>30.732470</td>\n",
       "      <td>2.201266</td>\n",
       "      <td>0</td>\n",
       "      <td>1</td>\n",
       "      <td>1.670557</td>\n",
       "      <td>1</td>\n",
       "      <td>0</td>\n",
       "      <td>67.309822</td>\n",
       "      <td>1</td>\n",
       "    </tr>\n",
       "    <tr>\n",
       "      <th>2</th>\n",
       "      <td>48</td>\n",
       "      <td>0</td>\n",
       "      <td>19.971407</td>\n",
       "      <td>18.500944</td>\n",
       "      <td>0</td>\n",
       "      <td>0</td>\n",
       "      <td>9.928308</td>\n",
       "      <td>0</td>\n",
       "      <td>0</td>\n",
       "      <td>63.738956</td>\n",
       "      <td>0</td>\n",
       "    </tr>\n",
       "    <tr>\n",
       "      <th>3</th>\n",
       "      <td>34</td>\n",
       "      <td>1</td>\n",
       "      <td>16.615417</td>\n",
       "      <td>12.632870</td>\n",
       "      <td>0</td>\n",
       "      <td>0</td>\n",
       "      <td>5.630129</td>\n",
       "      <td>0</td>\n",
       "      <td>0</td>\n",
       "      <td>64.555873</td>\n",
       "      <td>1</td>\n",
       "    </tr>\n",
       "    <tr>\n",
       "      <th>4</th>\n",
       "      <td>62</td>\n",
       "      <td>1</td>\n",
       "      <td>16.065830</td>\n",
       "      <td>1.087815</td>\n",
       "      <td>0</td>\n",
       "      <td>1</td>\n",
       "      <td>3.566218</td>\n",
       "      <td>1</td>\n",
       "      <td>0</td>\n",
       "      <td>77.868689</td>\n",
       "      <td>1</td>\n",
       "    </tr>\n",
       "    <tr>\n",
       "      <th>...</th>\n",
       "      <td>...</td>\n",
       "      <td>...</td>\n",
       "      <td>...</td>\n",
       "      <td>...</td>\n",
       "      <td>...</td>\n",
       "      <td>...</td>\n",
       "      <td>...</td>\n",
       "      <td>...</td>\n",
       "      <td>...</td>\n",
       "      <td>...</td>\n",
       "      <td>...</td>\n",
       "    </tr>\n",
       "    <tr>\n",
       "      <th>1695</th>\n",
       "      <td>42</td>\n",
       "      <td>0</td>\n",
       "      <td>38.498295</td>\n",
       "      <td>14.384688</td>\n",
       "      <td>0</td>\n",
       "      <td>1</td>\n",
       "      <td>0.992289</td>\n",
       "      <td>0</td>\n",
       "      <td>0</td>\n",
       "      <td>97.933961</td>\n",
       "      <td>1</td>\n",
       "    </tr>\n",
       "    <tr>\n",
       "      <th>1696</th>\n",
       "      <td>40</td>\n",
       "      <td>0</td>\n",
       "      <td>27.600094</td>\n",
       "      <td>5.431009</td>\n",
       "      <td>0</td>\n",
       "      <td>0</td>\n",
       "      <td>8.390492</td>\n",
       "      <td>0</td>\n",
       "      <td>0</td>\n",
       "      <td>70.260528</td>\n",
       "      <td>1</td>\n",
       "    </tr>\n",
       "    <tr>\n",
       "      <th>1697</th>\n",
       "      <td>38</td>\n",
       "      <td>0</td>\n",
       "      <td>38.730017</td>\n",
       "      <td>6.324302</td>\n",
       "      <td>1</td>\n",
       "      <td>2</td>\n",
       "      <td>9.314222</td>\n",
       "      <td>0</td>\n",
       "      <td>1</td>\n",
       "      <td>56.053370</td>\n",
       "      <td>1</td>\n",
       "    </tr>\n",
       "    <tr>\n",
       "      <th>1698</th>\n",
       "      <td>67</td>\n",
       "      <td>0</td>\n",
       "      <td>35.820798</td>\n",
       "      <td>16.899417</td>\n",
       "      <td>0</td>\n",
       "      <td>2</td>\n",
       "      <td>3.224453</td>\n",
       "      <td>0</td>\n",
       "      <td>0</td>\n",
       "      <td>26.300875</td>\n",
       "      <td>1</td>\n",
       "    </tr>\n",
       "    <tr>\n",
       "      <th>1699</th>\n",
       "      <td>80</td>\n",
       "      <td>0</td>\n",
       "      <td>24.060783</td>\n",
       "      <td>9.526447</td>\n",
       "      <td>0</td>\n",
       "      <td>0</td>\n",
       "      <td>9.261426</td>\n",
       "      <td>0</td>\n",
       "      <td>1</td>\n",
       "      <td>73.572893</td>\n",
       "      <td>1</td>\n",
       "    </tr>\n",
       "  </tbody>\n",
       "</table>\n",
       "<p>1700 rows × 11 columns</p>\n",
       "</div>"
      ],
      "text/plain": [
       "      Age  Gender        BMI  AlcoholConsumption  Smoking  GeneticRisk  \\\n",
       "0      58       0  35.857584           17.272828        0            1   \n",
       "1      71       1  30.732470            2.201266        0            1   \n",
       "2      48       0  19.971407           18.500944        0            0   \n",
       "3      34       1  16.615417           12.632870        0            0   \n",
       "4      62       1  16.065830            1.087815        0            1   \n",
       "...   ...     ...        ...                 ...      ...          ...   \n",
       "1695   42       0  38.498295           14.384688        0            1   \n",
       "1696   40       0  27.600094            5.431009        0            0   \n",
       "1697   38       0  38.730017            6.324302        1            2   \n",
       "1698   67       0  35.820798           16.899417        0            2   \n",
       "1699   80       0  24.060783            9.526447        0            0   \n",
       "\n",
       "      PhysicalActivity  Diabetes  Hypertension  LiverFunctionTest  Diagnosis  \n",
       "0             0.658940         0             0          42.734240          1  \n",
       "1             1.670557         1             0          67.309822          1  \n",
       "2             9.928308         0             0          63.738956          0  \n",
       "3             5.630129         0             0          64.555873          1  \n",
       "4             3.566218         1             0          77.868689          1  \n",
       "...                ...       ...           ...                ...        ...  \n",
       "1695          0.992289         0             0          97.933961          1  \n",
       "1696          8.390492         0             0          70.260528          1  \n",
       "1697          9.314222         0             1          56.053370          1  \n",
       "1698          3.224453         0             0          26.300875          1  \n",
       "1699          9.261426         0             1          73.572893          1  \n",
       "\n",
       "[1700 rows x 11 columns]"
      ]
     },
     "execution_count": 15,
     "metadata": {},
     "output_type": "execute_result"
    }
   ],
   "source": [
    "df"
   ]
  },
  {
   "cell_type": "markdown",
   "id": "0b9a0de4",
   "metadata": {},
   "source": [
    "Display First Five Rows"
   ]
  },
  {
   "cell_type": "code",
   "execution_count": 16,
   "id": "5a65dce7",
   "metadata": {},
   "outputs": [
    {
     "data": {
      "text/html": [
       "<div>\n",
       "<style scoped>\n",
       "    .dataframe tbody tr th:only-of-type {\n",
       "        vertical-align: middle;\n",
       "    }\n",
       "\n",
       "    .dataframe tbody tr th {\n",
       "        vertical-align: top;\n",
       "    }\n",
       "\n",
       "    .dataframe thead th {\n",
       "        text-align: right;\n",
       "    }\n",
       "</style>\n",
       "<table border=\"1\" class=\"dataframe\">\n",
       "  <thead>\n",
       "    <tr style=\"text-align: right;\">\n",
       "      <th></th>\n",
       "      <th>Age</th>\n",
       "      <th>Gender</th>\n",
       "      <th>BMI</th>\n",
       "      <th>AlcoholConsumption</th>\n",
       "      <th>Smoking</th>\n",
       "      <th>GeneticRisk</th>\n",
       "      <th>PhysicalActivity</th>\n",
       "      <th>Diabetes</th>\n",
       "      <th>Hypertension</th>\n",
       "      <th>LiverFunctionTest</th>\n",
       "      <th>Diagnosis</th>\n",
       "    </tr>\n",
       "  </thead>\n",
       "  <tbody>\n",
       "    <tr>\n",
       "      <th>0</th>\n",
       "      <td>58</td>\n",
       "      <td>0</td>\n",
       "      <td>35.857584</td>\n",
       "      <td>17.272828</td>\n",
       "      <td>0</td>\n",
       "      <td>1</td>\n",
       "      <td>0.658940</td>\n",
       "      <td>0</td>\n",
       "      <td>0</td>\n",
       "      <td>42.734240</td>\n",
       "      <td>1</td>\n",
       "    </tr>\n",
       "    <tr>\n",
       "      <th>1</th>\n",
       "      <td>71</td>\n",
       "      <td>1</td>\n",
       "      <td>30.732470</td>\n",
       "      <td>2.201266</td>\n",
       "      <td>0</td>\n",
       "      <td>1</td>\n",
       "      <td>1.670557</td>\n",
       "      <td>1</td>\n",
       "      <td>0</td>\n",
       "      <td>67.309822</td>\n",
       "      <td>1</td>\n",
       "    </tr>\n",
       "    <tr>\n",
       "      <th>2</th>\n",
       "      <td>48</td>\n",
       "      <td>0</td>\n",
       "      <td>19.971407</td>\n",
       "      <td>18.500944</td>\n",
       "      <td>0</td>\n",
       "      <td>0</td>\n",
       "      <td>9.928308</td>\n",
       "      <td>0</td>\n",
       "      <td>0</td>\n",
       "      <td>63.738956</td>\n",
       "      <td>0</td>\n",
       "    </tr>\n",
       "    <tr>\n",
       "      <th>3</th>\n",
       "      <td>34</td>\n",
       "      <td>1</td>\n",
       "      <td>16.615417</td>\n",
       "      <td>12.632870</td>\n",
       "      <td>0</td>\n",
       "      <td>0</td>\n",
       "      <td>5.630129</td>\n",
       "      <td>0</td>\n",
       "      <td>0</td>\n",
       "      <td>64.555873</td>\n",
       "      <td>1</td>\n",
       "    </tr>\n",
       "    <tr>\n",
       "      <th>4</th>\n",
       "      <td>62</td>\n",
       "      <td>1</td>\n",
       "      <td>16.065830</td>\n",
       "      <td>1.087815</td>\n",
       "      <td>0</td>\n",
       "      <td>1</td>\n",
       "      <td>3.566218</td>\n",
       "      <td>1</td>\n",
       "      <td>0</td>\n",
       "      <td>77.868689</td>\n",
       "      <td>1</td>\n",
       "    </tr>\n",
       "  </tbody>\n",
       "</table>\n",
       "</div>"
      ],
      "text/plain": [
       "   Age  Gender        BMI  AlcoholConsumption  Smoking  GeneticRisk  \\\n",
       "0   58       0  35.857584           17.272828        0            1   \n",
       "1   71       1  30.732470            2.201266        0            1   \n",
       "2   48       0  19.971407           18.500944        0            0   \n",
       "3   34       1  16.615417           12.632870        0            0   \n",
       "4   62       1  16.065830            1.087815        0            1   \n",
       "\n",
       "   PhysicalActivity  Diabetes  Hypertension  LiverFunctionTest  Diagnosis  \n",
       "0          0.658940         0             0          42.734240          1  \n",
       "1          1.670557         1             0          67.309822          1  \n",
       "2          9.928308         0             0          63.738956          0  \n",
       "3          5.630129         0             0          64.555873          1  \n",
       "4          3.566218         1             0          77.868689          1  "
      ]
     },
     "execution_count": 16,
     "metadata": {},
     "output_type": "execute_result"
    }
   ],
   "source": [
    "df.head()"
   ]
  },
  {
   "cell_type": "markdown",
   "id": "c210d795",
   "metadata": {},
   "source": [
    "Display Last Five Rows"
   ]
  },
  {
   "cell_type": "code",
   "execution_count": 17,
   "id": "d2447eed",
   "metadata": {},
   "outputs": [
    {
     "data": {
      "text/html": [
       "<div>\n",
       "<style scoped>\n",
       "    .dataframe tbody tr th:only-of-type {\n",
       "        vertical-align: middle;\n",
       "    }\n",
       "\n",
       "    .dataframe tbody tr th {\n",
       "        vertical-align: top;\n",
       "    }\n",
       "\n",
       "    .dataframe thead th {\n",
       "        text-align: right;\n",
       "    }\n",
       "</style>\n",
       "<table border=\"1\" class=\"dataframe\">\n",
       "  <thead>\n",
       "    <tr style=\"text-align: right;\">\n",
       "      <th></th>\n",
       "      <th>Age</th>\n",
       "      <th>Gender</th>\n",
       "      <th>BMI</th>\n",
       "      <th>AlcoholConsumption</th>\n",
       "      <th>Smoking</th>\n",
       "      <th>GeneticRisk</th>\n",
       "      <th>PhysicalActivity</th>\n",
       "      <th>Diabetes</th>\n",
       "      <th>Hypertension</th>\n",
       "      <th>LiverFunctionTest</th>\n",
       "      <th>Diagnosis</th>\n",
       "    </tr>\n",
       "  </thead>\n",
       "  <tbody>\n",
       "    <tr>\n",
       "      <th>1695</th>\n",
       "      <td>42</td>\n",
       "      <td>0</td>\n",
       "      <td>38.498295</td>\n",
       "      <td>14.384688</td>\n",
       "      <td>0</td>\n",
       "      <td>1</td>\n",
       "      <td>0.992289</td>\n",
       "      <td>0</td>\n",
       "      <td>0</td>\n",
       "      <td>97.933961</td>\n",
       "      <td>1</td>\n",
       "    </tr>\n",
       "    <tr>\n",
       "      <th>1696</th>\n",
       "      <td>40</td>\n",
       "      <td>0</td>\n",
       "      <td>27.600094</td>\n",
       "      <td>5.431009</td>\n",
       "      <td>0</td>\n",
       "      <td>0</td>\n",
       "      <td>8.390492</td>\n",
       "      <td>0</td>\n",
       "      <td>0</td>\n",
       "      <td>70.260528</td>\n",
       "      <td>1</td>\n",
       "    </tr>\n",
       "    <tr>\n",
       "      <th>1697</th>\n",
       "      <td>38</td>\n",
       "      <td>0</td>\n",
       "      <td>38.730017</td>\n",
       "      <td>6.324302</td>\n",
       "      <td>1</td>\n",
       "      <td>2</td>\n",
       "      <td>9.314222</td>\n",
       "      <td>0</td>\n",
       "      <td>1</td>\n",
       "      <td>56.053370</td>\n",
       "      <td>1</td>\n",
       "    </tr>\n",
       "    <tr>\n",
       "      <th>1698</th>\n",
       "      <td>67</td>\n",
       "      <td>0</td>\n",
       "      <td>35.820798</td>\n",
       "      <td>16.899417</td>\n",
       "      <td>0</td>\n",
       "      <td>2</td>\n",
       "      <td>3.224453</td>\n",
       "      <td>0</td>\n",
       "      <td>0</td>\n",
       "      <td>26.300875</td>\n",
       "      <td>1</td>\n",
       "    </tr>\n",
       "    <tr>\n",
       "      <th>1699</th>\n",
       "      <td>80</td>\n",
       "      <td>0</td>\n",
       "      <td>24.060783</td>\n",
       "      <td>9.526447</td>\n",
       "      <td>0</td>\n",
       "      <td>0</td>\n",
       "      <td>9.261426</td>\n",
       "      <td>0</td>\n",
       "      <td>1</td>\n",
       "      <td>73.572893</td>\n",
       "      <td>1</td>\n",
       "    </tr>\n",
       "  </tbody>\n",
       "</table>\n",
       "</div>"
      ],
      "text/plain": [
       "      Age  Gender        BMI  AlcoholConsumption  Smoking  GeneticRisk  \\\n",
       "1695   42       0  38.498295           14.384688        0            1   \n",
       "1696   40       0  27.600094            5.431009        0            0   \n",
       "1697   38       0  38.730017            6.324302        1            2   \n",
       "1698   67       0  35.820798           16.899417        0            2   \n",
       "1699   80       0  24.060783            9.526447        0            0   \n",
       "\n",
       "      PhysicalActivity  Diabetes  Hypertension  LiverFunctionTest  Diagnosis  \n",
       "1695          0.992289         0             0          97.933961          1  \n",
       "1696          8.390492         0             0          70.260528          1  \n",
       "1697          9.314222         0             1          56.053370          1  \n",
       "1698          3.224453         0             0          26.300875          1  \n",
       "1699          9.261426         0             1          73.572893          1  "
      ]
     },
     "execution_count": 17,
     "metadata": {},
     "output_type": "execute_result"
    }
   ],
   "source": [
    "df.tail()"
   ]
  },
  {
   "cell_type": "markdown",
   "id": "43fe78c4",
   "metadata": {},
   "source": [
    "Define the feature variables (X) and the target variable (y)"
   ]
  },
  {
   "cell_type": "code",
   "execution_count": 19,
   "id": "6ff1cd09",
   "metadata": {},
   "outputs": [],
   "source": [
    "X = df.drop(columns='LiverFunctionTest')\n",
    "y = df['LiverFunctionTest']"
   ]
  },
  {
   "cell_type": "markdown",
   "id": "106b38bd",
   "metadata": {},
   "source": [
    "Split the data into training (80%) and testing sets (20%)"
   ]
  },
  {
   "cell_type": "code",
   "execution_count": 20,
   "id": "6b06562b",
   "metadata": {},
   "outputs": [],
   "source": [
    "\n",
    "X_train, X_test, y_train, y_test = train_test_split(X, y, test_size=0.2, random_state=42)"
   ]
  },
  {
   "cell_type": "markdown",
   "id": "b2e4897c",
   "metadata": {},
   "source": [
    " Initialize and train the linear regression model"
   ]
  },
  {
   "cell_type": "code",
   "execution_count": 21,
   "id": "b555870f",
   "metadata": {},
   "outputs": [
    {
     "data": {
      "text/html": [
       "<style>#sk-container-id-1 {color: black;}#sk-container-id-1 pre{padding: 0;}#sk-container-id-1 div.sk-toggleable {background-color: white;}#sk-container-id-1 label.sk-toggleable__label {cursor: pointer;display: block;width: 100%;margin-bottom: 0;padding: 0.3em;box-sizing: border-box;text-align: center;}#sk-container-id-1 label.sk-toggleable__label-arrow:before {content: \"▸\";float: left;margin-right: 0.25em;color: #696969;}#sk-container-id-1 label.sk-toggleable__label-arrow:hover:before {color: black;}#sk-container-id-1 div.sk-estimator:hover label.sk-toggleable__label-arrow:before {color: black;}#sk-container-id-1 div.sk-toggleable__content {max-height: 0;max-width: 0;overflow: hidden;text-align: left;background-color: #f0f8ff;}#sk-container-id-1 div.sk-toggleable__content pre {margin: 0.2em;color: black;border-radius: 0.25em;background-color: #f0f8ff;}#sk-container-id-1 input.sk-toggleable__control:checked~div.sk-toggleable__content {max-height: 200px;max-width: 100%;overflow: auto;}#sk-container-id-1 input.sk-toggleable__control:checked~label.sk-toggleable__label-arrow:before {content: \"▾\";}#sk-container-id-1 div.sk-estimator input.sk-toggleable__control:checked~label.sk-toggleable__label {background-color: #d4ebff;}#sk-container-id-1 div.sk-label input.sk-toggleable__control:checked~label.sk-toggleable__label {background-color: #d4ebff;}#sk-container-id-1 input.sk-hidden--visually {border: 0;clip: rect(1px 1px 1px 1px);clip: rect(1px, 1px, 1px, 1px);height: 1px;margin: -1px;overflow: hidden;padding: 0;position: absolute;width: 1px;}#sk-container-id-1 div.sk-estimator {font-family: monospace;background-color: #f0f8ff;border: 1px dotted black;border-radius: 0.25em;box-sizing: border-box;margin-bottom: 0.5em;}#sk-container-id-1 div.sk-estimator:hover {background-color: #d4ebff;}#sk-container-id-1 div.sk-parallel-item::after {content: \"\";width: 100%;border-bottom: 1px solid gray;flex-grow: 1;}#sk-container-id-1 div.sk-label:hover label.sk-toggleable__label {background-color: #d4ebff;}#sk-container-id-1 div.sk-serial::before {content: \"\";position: absolute;border-left: 1px solid gray;box-sizing: border-box;top: 0;bottom: 0;left: 50%;z-index: 0;}#sk-container-id-1 div.sk-serial {display: flex;flex-direction: column;align-items: center;background-color: white;padding-right: 0.2em;padding-left: 0.2em;position: relative;}#sk-container-id-1 div.sk-item {position: relative;z-index: 1;}#sk-container-id-1 div.sk-parallel {display: flex;align-items: stretch;justify-content: center;background-color: white;position: relative;}#sk-container-id-1 div.sk-item::before, #sk-container-id-1 div.sk-parallel-item::before {content: \"\";position: absolute;border-left: 1px solid gray;box-sizing: border-box;top: 0;bottom: 0;left: 50%;z-index: -1;}#sk-container-id-1 div.sk-parallel-item {display: flex;flex-direction: column;z-index: 1;position: relative;background-color: white;}#sk-container-id-1 div.sk-parallel-item:first-child::after {align-self: flex-end;width: 50%;}#sk-container-id-1 div.sk-parallel-item:last-child::after {align-self: flex-start;width: 50%;}#sk-container-id-1 div.sk-parallel-item:only-child::after {width: 0;}#sk-container-id-1 div.sk-dashed-wrapped {border: 1px dashed gray;margin: 0 0.4em 0.5em 0.4em;box-sizing: border-box;padding-bottom: 0.4em;background-color: white;}#sk-container-id-1 div.sk-label label {font-family: monospace;font-weight: bold;display: inline-block;line-height: 1.2em;}#sk-container-id-1 div.sk-label-container {text-align: center;}#sk-container-id-1 div.sk-container {/* jupyter's `normalize.less` sets `[hidden] { display: none; }` but bootstrap.min.css set `[hidden] { display: none !important; }` so we also need the `!important` here to be able to override the default hidden behavior on the sphinx rendered scikit-learn.org. See: https://github.com/scikit-learn/scikit-learn/issues/21755 */display: inline-block !important;position: relative;}#sk-container-id-1 div.sk-text-repr-fallback {display: none;}</style><div id=\"sk-container-id-1\" class=\"sk-top-container\"><div class=\"sk-text-repr-fallback\"><pre>LinearRegression()</pre><b>In a Jupyter environment, please rerun this cell to show the HTML representation or trust the notebook. <br />On GitHub, the HTML representation is unable to render, please try loading this page with nbviewer.org.</b></div><div class=\"sk-container\" hidden><div class=\"sk-item\"><div class=\"sk-estimator sk-toggleable\"><input class=\"sk-toggleable__control sk-hidden--visually\" id=\"sk-estimator-id-1\" type=\"checkbox\" checked><label for=\"sk-estimator-id-1\" class=\"sk-toggleable__label sk-toggleable__label-arrow\">LinearRegression</label><div class=\"sk-toggleable__content\"><pre>LinearRegression()</pre></div></div></div></div></div>"
      ],
      "text/plain": [
       "LinearRegression()"
      ]
     },
     "execution_count": 21,
     "metadata": {},
     "output_type": "execute_result"
    }
   ],
   "source": [
    "model = LinearRegression()\n",
    "model.fit(X_train, y_train)"
   ]
  },
  {
   "cell_type": "markdown",
   "id": "ef5857d2",
   "metadata": {},
   "source": [
    "Make predictions on the test set"
   ]
  },
  {
   "cell_type": "code",
   "execution_count": 22,
   "id": "093d37da",
   "metadata": {},
   "outputs": [],
   "source": [
    "y_pred = model.predict(X_test)"
   ]
  },
  {
   "cell_type": "markdown",
   "id": "0ed826fa",
   "metadata": {},
   "source": [
    "Evaluate the model's performance"
   ]
  },
  {
   "cell_type": "code",
   "execution_count": 23,
   "id": "81cc3189",
   "metadata": {},
   "outputs": [],
   "source": [
    "mse = mean_squared_error(y_test, y_pred)\n",
    "r2 = r2_score(y_test, y_pred)"
   ]
  },
  {
   "cell_type": "markdown",
   "id": "3efa5a96",
   "metadata": {},
   "source": [
    "Display the Model's Performance"
   ]
  },
  {
   "cell_type": "code",
   "execution_count": 25,
   "id": "e36bcf65",
   "metadata": {},
   "outputs": [
    {
     "name": "stdout",
     "output_type": "stream",
     "text": [
      "Mean Squared Error: 428.93232767307035\n",
      "R-squared: 0.22533518585599854\n"
     ]
    }
   ],
   "source": [
    "print(f'Mean Squared Error: {mse}')\n",
    "print(f'R-squared: {r2}')"
   ]
  },
  {
   "cell_type": "markdown",
   "id": "adc840d0",
   "metadata": {},
   "source": [
    "Visualization"
   ]
  },
  {
   "cell_type": "code",
   "execution_count": 27,
   "id": "72afd57c",
   "metadata": {},
   "outputs": [
    {
     "data": {
      "text/plain": [
       "<Figure size 1000x600 with 0 Axes>"
      ]
     },
     "execution_count": 27,
     "metadata": {},
     "output_type": "execute_result"
    },
    {
     "data": {
      "text/plain": [
       "<Figure size 1000x600 with 0 Axes>"
      ]
     },
     "metadata": {},
     "output_type": "display_data"
    }
   ],
   "source": [
    "plt.figure(figsize=(10, 6))"
   ]
  },
  {
   "cell_type": "markdown",
   "id": "27898fc7",
   "metadata": {},
   "source": [
    "Scatter plot of actual vs. predicted values"
   ]
  },
  {
   "cell_type": "code",
   "execution_count": 28,
   "id": "5d582ffc",
   "metadata": {},
   "outputs": [
    {
     "data": {
      "image/png": "[encoded data removed]",
      "text/plain": [
       "<Figure size 640x480 with 1 Axes>"
      ]
     },
     "metadata": {},
     "output_type": "display_data"
    }
   ],
   "source": [
    "plt.scatter(y_test, y_pred, color='blue', edgecolor='k', alpha=0.7)\n",
    "plt.plot([y.min(), y.max()], [y.min(), y.max()], color='red', linewidth=2)  # 45-degree line\n",
    "plt.xlabel('Actual Liver Function Test Values')\n",
    "plt.ylabel('Predicted Liver Function Test Values')\n",
    "plt.title('Actual vs. Predicted Values')\n",
    "plt.show()"
   ]
  },
  {
   "cell_type": "code",
   "execution_count": null,
   "id": "022f72db",
   "metadata": {},
   "outputs": [],
   "source": []
  }
 ],
 "metadata": {
  "kernelspec": {
   "display_name": "Python 3 (ipykernel)",
   "language": "python",
   "name": "python3"
  },
  "language_info": {
   "codemirror_mode": {
    "name": "ipython",
    "version": 3
   },
   "file_extension": ".py",
   "mimetype": "text/x-python",
   "name": "python",
   "nbconvert_exporter": "python",
   "pygments_lexer": "ipython3",
   "version": "3.11.5"
  }
 },
 "nbformat": 4,
 "nbformat_minor": 5
}
